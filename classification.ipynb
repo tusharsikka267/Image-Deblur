{
 "cells": [
  {
   "cell_type": "code",
   "execution_count": 1,
   "id": "8872d5ce",
   "metadata": {},
   "outputs": [],
   "source": [
    "import os\n",
    "import cv2\n",
    "import pandas as pd\n",
    "import numpy as np\n",
    "import xgboost as xgb\n",
    "import matplotlib.pyplot as plt\n",
    "import shutil"
   ]
  },
  {
   "cell_type": "code",
   "execution_count": 2,
   "id": "893ddbee",
   "metadata": {},
   "outputs": [],
   "source": [
    "from sklearn.model_selection import train_test_split\n",
    "from sklearn.ensemble import RandomForestClassifier\n",
    "from sklearn.metrics import accuracy_score, confusion_matrix\n",
    "from sklearn.metrics import roc_curve, auc"
   ]
  },
  {
   "cell_type": "code",
   "execution_count": 3,
   "id": "ac4ccaed",
   "metadata": {},
   "outputs": [],
   "source": [
    "def load_images_from_folder(folder_path):\n",
    "    image_data = []  # List to store image data\n",
    "    for filename in os.listdir(folder_path):\n",
    "        if filename.endswith(\".jpg\") or filename.endswith(\".png\"):\n",
    "            image_path = os.path.join(folder_path, filename)\n",
    "            img = cv2.imread(image_path)  # Read the image using OpenCV\n",
    "            \n",
    "            if img is not None:\n",
    "                gray = cv2.cvtColor(img, cv2.COLOR_BGR2GRAY)\n",
    "                variance = cv2.Laplacian(gray, cv2.CV_64F).var()\n",
    "                \n",
    "                image_info = {\n",
    "                    'name': filename,  # Store the image filename\n",
    "                    'image': img,      # Store the loaded image\n",
    "                    'variance': variance  # Store the calculated variance\n",
    "                }\n",
    "                \n",
    "                image_data.append(image_info)\n",
    "    return image_data"
   ]
  },
  {
   "cell_type": "code",
   "execution_count": 4,
   "id": "05df66c0",
   "metadata": {},
   "outputs": [],
   "source": [
    "folder_path = \"Downloads/archive (10)/motion_blurred\"\n",
    "images = load_images_from_folder(folder_path)"
   ]
  },
  {
   "cell_type": "code",
   "execution_count": 5,
   "id": "45816f9c",
   "metadata": {},
   "outputs": [],
   "source": [
    "categories = \"blur\"  # You can populate this list based on your image categories\n",
    "variances = [image_info['variance'] for image_info in images]\n",
    "image_names = [image_info['name'] for image_info in images]\n",
    "\n",
    "# Create a dictionary for the DataFrame\n",
    "data = {\n",
    "    'Category': categories,\n",
    "    'Variance': variances,\n",
    "    'Image_Name': image_names\n",
    "}"
   ]
  },
  {
   "cell_type": "code",
   "execution_count": 6,
   "id": "aa4a4f08",
   "metadata": {},
   "outputs": [],
   "source": [
    "df_motion = pd.DataFrame(data)"
   ]
  },
  {
   "cell_type": "code",
   "execution_count": 7,
   "id": "e3b533a8",
   "metadata": {},
   "outputs": [],
   "source": [
    "folder_path = \"Downloads/archive (10)/sharp\"\n",
    "images = load_images_from_folder(folder_path)"
   ]
  },
  {
   "cell_type": "code",
   "execution_count": 8,
   "id": "43e76c9b",
   "metadata": {},
   "outputs": [],
   "source": [
    "categories = \"sharp\"  # You can populate this list based on your image categories\n",
    "variances = [image_info['variance'] for image_info in images]\n",
    "variances = [image_info['variance'] for image_info in images]\n",
    "\n",
    "# Create a dictionary for the DataFrame\n",
    "data = {\n",
    "    'Category': categories,\n",
    "    'Variance': variances,\n",
    "    'Image_Name': image_names\n",
    "}"
   ]
  },
  {
   "cell_type": "code",
   "execution_count": 9,
   "id": "201f8629",
   "metadata": {},
   "outputs": [],
   "source": [
    "df_sharp = pd.DataFrame(data)"
   ]
  },
  {
   "cell_type": "code",
   "execution_count": 10,
   "id": "db50bff6",
   "metadata": {},
   "outputs": [],
   "source": [
    "folder_path = \"Downloads/archive (10)/defocused_blurred\"\n",
    "images = load_images_from_folder(folder_path)"
   ]
  },
  {
   "cell_type": "code",
   "execution_count": 11,
   "id": "2a58297b",
   "metadata": {},
   "outputs": [],
   "source": [
    "categories = \"blur\"  # You can populate this list based on your image categories\n",
    "variances = [image_info['variance'] for image_info in images]\n",
    "variances = [image_info['variance'] for image_info in images]\n",
    "\n",
    "# Create a dictionary for the DataFrame\n",
    "data = {\n",
    "    'Category': categories,\n",
    "    'Variance': variances,\n",
    "    'Image_Name': image_names\n",
    "}"
   ]
  },
  {
   "cell_type": "code",
   "execution_count": 12,
   "id": "0fdc898e",
   "metadata": {},
   "outputs": [],
   "source": [
    "df_defocussed = pd.DataFrame(data)"
   ]
  },
  {
   "cell_type": "code",
   "execution_count": 13,
   "id": "d4fde3d2",
   "metadata": {},
   "outputs": [
    {
     "name": "stdout",
     "output_type": "stream",
     "text": [
      "   Percentile Range   df_motion  df_defocussed     df_sharp\n",
      "0             5.0th   11.482836       6.009269    52.453192\n",
      "1            10.0th   17.294167       9.416464    71.949404\n",
      "2            20.0th   26.593368      16.344266   115.704969\n",
      "3            30.0th   33.785206      21.135657   156.027246\n",
      "4            40.0th   49.559023      26.759629   218.136581\n",
      "5            50.0th   63.445699      32.139226   261.506980\n",
      "6            60.0th   82.857104      44.365028   339.417123\n",
      "7            70.0th  106.146725      60.860307   507.372591\n",
      "8            80.0th  147.395191      95.664365   651.677632\n",
      "9            90.0th  275.299966     162.784000  1078.007183\n",
      "10           95.0th  497.209569     238.494148  1560.368250\n"
     ]
    }
   ],
   "source": [
    "percentiles = [0.05, 0.1, 0.2, 0.3, 0.4, 0.5, 0.6, 0.7, 0.8, 0.9, 0.95]\n",
    "\n",
    "result_data = []\n",
    "\n",
    "# Calculate percentiles for each DataFrame and populate the result DataFrame\n",
    "for percentile in percentiles:\n",
    "    variance_value = np.percentile(df_defocussed[\"Variance\"], percentile * 100)\n",
    "    sharpness_value = np.percentile(df_sharp[\"Variance\"], percentile * 100)\n",
    "    motion_value = np.percentile(df_motion[\"Variance\"], percentile * 100)\n",
    "    \n",
    "    result_data.append({\n",
    "        \"Percentile Range\": f\"{percentile*100}th\",\n",
    "        \"df_motion\": motion_value,\n",
    "        \"df_defocussed\": variance_value,\n",
    "        \"df_sharp\": sharpness_value\n",
    "    })\n",
    "\n",
    "result_df = pd.DataFrame(result_data)\n",
    "print(result_df)"
   ]
  },
  {
   "cell_type": "code",
   "execution_count": 14,
   "id": "87754975",
   "metadata": {},
   "outputs": [
    {
     "name": "stdout",
     "output_type": "stream",
     "text": [
      "    Category    Variance               Image_Name\n",
      "0       blur   64.365429     103_HUAWEI-P20_M.jpg\n",
      "1       blur   78.370947      104_IPHONE-SE_M.jpg\n",
      "2       blur   42.468335      105_IPHONE-SE_M.jpg\n",
      "3       blur  314.721705  107_XIAOMI-MI8-SE_M.jpg\n",
      "4       blur  417.325428  108_XIAOMI-MI8-SE_M.jpg\n",
      "..       ...         ...                      ...\n",
      "733    sharp  194.254659        96_HONOR-7X_M.jpg\n",
      "734    sharp  139.252947        97_HONOR-7X_M.jpg\n",
      "735    sharp  213.178318        98_HONOR-7X_M.jpg\n",
      "736    sharp  651.677632        99_HONOR-7X_M.jpg\n",
      "737    sharp  225.555985       9_HUAWEI-P20_M.jpg\n",
      "\n",
      "[738 rows x 3 columns]\n"
     ]
    }
   ],
   "source": [
    "combined_df = pd.concat([df_motion, df_defocussed,df_sharp], ignore_index=True)\n",
    "\n",
    "print(combined_df)"
   ]
  },
  {
   "cell_type": "code",
   "execution_count": 15,
   "id": "e248bcc1",
   "metadata": {},
   "outputs": [],
   "source": [
    "# Convert categorical feature to numerical using one-hot encoding\n",
    "df_encoded = pd.get_dummies(combined_df, columns=['Category'], drop_first=True)"
   ]
  },
  {
   "cell_type": "code",
   "execution_count": 16,
   "id": "6e2ff251",
   "metadata": {},
   "outputs": [],
   "source": [
    "# Split data into features and target\n",
    "X = df_encoded.drop(columns=['Category_sharp'])  # Dropping one category to avoid multicollinearity\n",
    "y = df_encoded['Category_sharp']"
   ]
  },
  {
   "cell_type": "code",
   "execution_count": 17,
   "id": "6303ce0a",
   "metadata": {},
   "outputs": [],
   "source": [
    "# Split the data into training and testing sets\n",
    "X_train, X_test, y_train, y_test = train_test_split(X, y, test_size=0.2, random_state=42)"
   ]
  },
  {
   "cell_type": "code",
   "execution_count": 18,
   "id": "63141b83",
   "metadata": {},
   "outputs": [],
   "source": [
    "X_train_temp = X_train.pop('Variance')"
   ]
  },
  {
   "cell_type": "code",
   "execution_count": 19,
   "id": "64e471fc",
   "metadata": {},
   "outputs": [
    {
     "data": {
      "text/html": [
       "<div>\n",
       "<style scoped>\n",
       "    .dataframe tbody tr th:only-of-type {\n",
       "        vertical-align: middle;\n",
       "    }\n",
       "\n",
       "    .dataframe tbody tr th {\n",
       "        vertical-align: top;\n",
       "    }\n",
       "\n",
       "    .dataframe thead th {\n",
       "        text-align: right;\n",
       "    }\n",
       "</style>\n",
       "<table border=\"1\" class=\"dataframe\">\n",
       "  <thead>\n",
       "    <tr style=\"text-align: right;\">\n",
       "      <th></th>\n",
       "      <th>Image_Name</th>\n",
       "    </tr>\n",
       "  </thead>\n",
       "  <tbody>\n",
       "    <tr>\n",
       "      <th>260</th>\n",
       "      <td>120_HONOR-7X_M.jpg</td>\n",
       "    </tr>\n",
       "    <tr>\n",
       "      <th>430</th>\n",
       "      <td>349_IPHONE-SE_M.jpg</td>\n",
       "    </tr>\n",
       "    <tr>\n",
       "      <th>135</th>\n",
       "      <td>29_HONOR-7X_M.jpg</td>\n",
       "    </tr>\n",
       "    <tr>\n",
       "      <th>360</th>\n",
       "      <td>257_HONOR-9_M.jpg</td>\n",
       "    </tr>\n",
       "    <tr>\n",
       "      <th>28</th>\n",
       "      <td>162_IPHONE-6S_M.jpg</td>\n",
       "    </tr>\n",
       "  </tbody>\n",
       "</table>\n",
       "</div>"
      ],
      "text/plain": [
       "              Image_Name\n",
       "260   120_HONOR-7X_M.jpg\n",
       "430  349_IPHONE-SE_M.jpg\n",
       "135    29_HONOR-7X_M.jpg\n",
       "360    257_HONOR-9_M.jpg\n",
       "28   162_IPHONE-6S_M.jpg"
      ]
     },
     "execution_count": 19,
     "metadata": {},
     "output_type": "execute_result"
    }
   ],
   "source": [
    "X_train.head()"
   ]
  },
  {
   "cell_type": "code",
   "execution_count": 20,
   "id": "89f026eb",
   "metadata": {},
   "outputs": [
    {
     "data": {
      "text/plain": [
       "260    16.580920\n",
       "430    74.514449\n",
       "135    61.769921\n",
       "360    43.468719\n",
       "28     23.782297\n",
       "Name: Variance, dtype: float64"
      ]
     },
     "execution_count": 20,
     "metadata": {},
     "output_type": "execute_result"
    }
   ],
   "source": [
    "X_train_temp.head()"
   ]
  },
  {
   "cell_type": "code",
   "execution_count": 21,
   "id": "9f1b9057",
   "metadata": {},
   "outputs": [
    {
     "data": {
      "text/html": [
       "<div>\n",
       "<style scoped>\n",
       "    .dataframe tbody tr th:only-of-type {\n",
       "        vertical-align: middle;\n",
       "    }\n",
       "\n",
       "    .dataframe tbody tr th {\n",
       "        vertical-align: top;\n",
       "    }\n",
       "\n",
       "    .dataframe thead th {\n",
       "        text-align: right;\n",
       "    }\n",
       "</style>\n",
       "<table border=\"1\" class=\"dataframe\">\n",
       "  <thead>\n",
       "    <tr style=\"text-align: right;\">\n",
       "      <th></th>\n",
       "      <th>Variance</th>\n",
       "      <th>Image_Name</th>\n",
       "    </tr>\n",
       "  </thead>\n",
       "  <tbody>\n",
       "    <tr>\n",
       "      <th>290</th>\n",
       "      <td>77.638942</td>\n",
       "      <td>180_HONOR-10_M.jpg</td>\n",
       "    </tr>\n",
       "    <tr>\n",
       "      <th>331</th>\n",
       "      <td>251.965300</td>\n",
       "      <td>224_ONEPLUS-3T_M.jpg</td>\n",
       "    </tr>\n",
       "    <tr>\n",
       "      <th>227</th>\n",
       "      <td>125.461831</td>\n",
       "      <td>80_HUAWEI-P30-PRO_M.jpg</td>\n",
       "    </tr>\n",
       "    <tr>\n",
       "      <th>528</th>\n",
       "      <td>110.733517</td>\n",
       "      <td>172_IPHONE-SE_M.jpg</td>\n",
       "    </tr>\n",
       "    <tr>\n",
       "      <th>158</th>\n",
       "      <td>59.141931</td>\n",
       "      <td>324_ASUS-ZENFONE-LIVE-ZB501KL_M.jpg</td>\n",
       "    </tr>\n",
       "  </tbody>\n",
       "</table>\n",
       "</div>"
      ],
      "text/plain": [
       "       Variance                           Image_Name\n",
       "290   77.638942                   180_HONOR-10_M.jpg\n",
       "331  251.965300                 224_ONEPLUS-3T_M.jpg\n",
       "227  125.461831              80_HUAWEI-P30-PRO_M.jpg\n",
       "528  110.733517                  172_IPHONE-SE_M.jpg\n",
       "158   59.141931  324_ASUS-ZENFONE-LIVE-ZB501KL_M.jpg"
      ]
     },
     "execution_count": 21,
     "metadata": {},
     "output_type": "execute_result"
    }
   ],
   "source": [
    "X_test.head()"
   ]
  },
  {
   "cell_type": "code",
   "execution_count": 22,
   "id": "090f5b56",
   "metadata": {},
   "outputs": [],
   "source": [
    "X_test_temp= X_test.pop('Image_Name')"
   ]
  },
  {
   "cell_type": "code",
   "execution_count": 23,
   "id": "554d2133",
   "metadata": {},
   "outputs": [],
   "source": [
    "X_test_Variance = X_test.pop('Variance')"
   ]
  },
  {
   "cell_type": "code",
   "execution_count": 24,
   "id": "eee7a803",
   "metadata": {},
   "outputs": [
    {
     "data": {
      "text/html": [
       "<div>\n",
       "<style scoped>\n",
       "    .dataframe tbody tr th:only-of-type {\n",
       "        vertical-align: middle;\n",
       "    }\n",
       "\n",
       "    .dataframe tbody tr th {\n",
       "        vertical-align: top;\n",
       "    }\n",
       "\n",
       "    .dataframe thead th {\n",
       "        text-align: right;\n",
       "    }\n",
       "</style>\n",
       "<table border=\"1\" class=\"dataframe\">\n",
       "  <thead>\n",
       "    <tr style=\"text-align: right;\">\n",
       "      <th></th>\n",
       "    </tr>\n",
       "  </thead>\n",
       "  <tbody>\n",
       "    <tr>\n",
       "      <th>290</th>\n",
       "    </tr>\n",
       "    <tr>\n",
       "      <th>331</th>\n",
       "    </tr>\n",
       "    <tr>\n",
       "      <th>227</th>\n",
       "    </tr>\n",
       "    <tr>\n",
       "      <th>528</th>\n",
       "    </tr>\n",
       "    <tr>\n",
       "      <th>158</th>\n",
       "    </tr>\n",
       "  </tbody>\n",
       "</table>\n",
       "</div>"
      ],
      "text/plain": [
       "Empty DataFrame\n",
       "Columns: []\n",
       "Index: [290, 331, 227, 528, 158]"
      ]
     },
     "execution_count": 24,
     "metadata": {},
     "output_type": "execute_result"
    }
   ],
   "source": [
    "X_test.head()"
   ]
  },
  {
   "cell_type": "code",
   "execution_count": 25,
   "id": "cccbbf56",
   "metadata": {},
   "outputs": [
    {
     "data": {
      "text/plain": [
       "290                     180_HONOR-10_M.jpg\n",
       "331                   224_ONEPLUS-3T_M.jpg\n",
       "227                80_HUAWEI-P30-PRO_M.jpg\n",
       "528                    172_IPHONE-SE_M.jpg\n",
       "158    324_ASUS-ZENFONE-LIVE-ZB501KL_M.jpg\n",
       "Name: Image_Name, dtype: object"
      ]
     },
     "execution_count": 25,
     "metadata": {},
     "output_type": "execute_result"
    }
   ],
   "source": [
    "X_test_temp.head()"
   ]
  },
  {
   "cell_type": "code",
   "execution_count": 26,
   "id": "2be877df",
   "metadata": {},
   "outputs": [
    {
     "data": {
      "text/plain": [
       "260    False\n",
       "430    False\n",
       "135    False\n",
       "360    False\n",
       "28     False\n",
       "Name: Category_sharp, dtype: bool"
      ]
     },
     "execution_count": 26,
     "metadata": {},
     "output_type": "execute_result"
    }
   ],
   "source": [
    "y_train.head()"
   ]
  },
  {
   "cell_type": "code",
   "execution_count": 27,
   "id": "8297923e",
   "metadata": {},
   "outputs": [
    {
     "data": {
      "text/plain": [
       "Category_sharp\n",
       "False    392\n",
       "True     198\n",
       "Name: count, dtype: int64"
      ]
     },
     "execution_count": 27,
     "metadata": {},
     "output_type": "execute_result"
    }
   ],
   "source": [
    "y_train.value_counts()"
   ]
  },
  {
   "cell_type": "code",
   "execution_count": 28,
   "id": "f9424caf",
   "metadata": {},
   "outputs": [
    {
     "data": {
      "text/plain": [
       "290    False\n",
       "331    False\n",
       "227    False\n",
       "528     True\n",
       "158    False\n",
       "Name: Category_sharp, dtype: bool"
      ]
     },
     "execution_count": 28,
     "metadata": {},
     "output_type": "execute_result"
    }
   ],
   "source": [
    "y_test.head()"
   ]
  },
  {
   "cell_type": "code",
   "execution_count": 29,
   "id": "9e20f88f",
   "metadata": {},
   "outputs": [],
   "source": [
    "# Convert data into DMatrix format\n",
    "dtrain = xgb.DMatrix(X_train_temp, label=y_train)\n",
    "dtest = xgb.DMatrix(X_test, label=y_test)"
   ]
  },
  {
   "cell_type": "code",
   "execution_count": 30,
   "id": "7970eacc",
   "metadata": {},
   "outputs": [
    {
     "name": "stdout",
     "output_type": "stream",
     "text": [
      "<xgboost.core.DMatrix object at 0x00000126A3A3AF90>\n"
     ]
    }
   ],
   "source": [
    "print(dtrain)"
   ]
  },
  {
   "cell_type": "code",
   "execution_count": 31,
   "id": "cc4d81b4",
   "metadata": {},
   "outputs": [],
   "source": [
    "# Define hyperparameters\n",
    "params = {\n",
    "    'objective': 'binary:logistic',\n",
    "    'eval_metric': 'logloss',\n",
    "    'max_depth': 3,\n",
    "    'eta': 0.1,\n",
    "    'gamma': 0,\n",
    "    'min_child_weight': 1,\n",
    "    'subsample': 1,\n",
    "    'colsample_bytree': 1,\n",
    "}"
   ]
  },
  {
   "cell_type": "code",
   "execution_count": 32,
   "id": "81e8ccd9",
   "metadata": {},
   "outputs": [],
   "source": [
    "# Train the XGBoost model\n",
    "num_round = 50\n",
    "model = xgb.train(params, dtrain, num_round)"
   ]
  },
  {
   "cell_type": "code",
   "execution_count": 33,
   "id": "84969944",
   "metadata": {},
   "outputs": [],
   "source": [
    "# Make predictions\n",
    "y_pred = model.predict(dtest)\n",
    "y_pred_binary = [1 if p >= 0.5 else 0 for p in y_pred]"
   ]
  },
  {
   "cell_type": "code",
   "execution_count": 34,
   "id": "15de6873",
   "metadata": {},
   "outputs": [
    {
     "name": "stdout",
     "output_type": "stream",
     "text": [
      "Confusion Matrix:\n",
      "[[100   0]\n",
      " [ 48   0]]\n"
     ]
    }
   ],
   "source": [
    "print(\"Confusion Matrix:\")\n",
    "print(confusion_matrix(y_test, y_pred_binary))"
   ]
  },
  {
   "cell_type": "code",
   "execution_count": 35,
   "id": "9f033ad0",
   "metadata": {},
   "outputs": [
    {
     "name": "stdout",
     "output_type": "stream",
     "text": [
      "Accuracy: 0.68\n"
     ]
    }
   ],
   "source": [
    "# Evaluate the model\n",
    "accuracy = accuracy_score(y_test, y_pred_binary)\n",
    "print(f\"Accuracy: {accuracy:.2f}\")"
   ]
  },
  {
   "cell_type": "code",
   "execution_count": 36,
   "id": "c63140c8",
   "metadata": {},
   "outputs": [],
   "source": [
    "# Get predicted probabilities on the test set\n",
    "y_pred_prob = model.predict(dtest)"
   ]
  },
  {
   "cell_type": "code",
   "execution_count": 37,
   "id": "2b38053e",
   "metadata": {},
   "outputs": [],
   "source": [
    "# Calculate ROC curve\n",
    "fpr, tpr, _ = roc_curve(y_test, y_pred_prob)\n",
    "roc_auc = auc(fpr, tpr)"
   ]
  },
  {
   "cell_type": "code",
   "execution_count": 38,
   "id": "45f8838e",
   "metadata": {},
   "outputs": [
    {
     "data": {
      "image/png": "[encoded data removed]",
      "text/plain": [
       "<Figure size 640x480 with 1 Axes>"
      ]
     },
     "metadata": {},
     "output_type": "display_data"
    }
   ],
   "source": [
    "# Plot ROC curve\n",
    "plt.figure()\n",
    "plt.plot(fpr, tpr, color='darkorange', lw=2, label='ROC curve (area = %0.2f)' % roc_auc)\n",
    "plt.plot([0, 1], [0, 1], color='navy', lw=2, linestyle='--')\n",
    "plt.xlim([0.0, 1.0])\n",
    "plt.ylim([0.0, 1.05])\n",
    "plt.xlabel('False Positive Rate')\n",
    "plt.ylabel('True Positive Rate')\n",
    "plt.title('Receiver Operating Characteristic')\n",
    "plt.legend(loc=\"lower right\")\n",
    "plt.show()"
   ]
  },
  {
   "cell_type": "code",
   "execution_count": 42,
   "id": "5ec69bb3",
   "metadata": {
    "scrolled": true
   },
   "outputs": [],
   "source": [
    "data_ytest = pd.Series(y_test)\n",
    "\n",
    "# Convert False to 0 and True to 1\n",
    "converted_series = data_ytest.astype(int)"
   ]
  },
  {
   "cell_type": "code",
   "execution_count": 43,
   "id": "1bb1c688",
   "metadata": {},
   "outputs": [],
   "source": [
    "data_final = {\n",
    "    'Variance' : X_test_Variance,\n",
    "    'Img_name': X_test_temp,\n",
    "    'Actual': converted_series,\n",
    "    'Predicted': y_pred_binary\n",
    "}\n"
   ]
  },
  {
   "cell_type": "code",
   "execution_count": 52,
   "id": "73c9a195",
   "metadata": {},
   "outputs": [],
   "source": [
    "df_final = pd.DataFrame(data_final)"
   ]
  },
  {
   "cell_type": "code",
   "execution_count": 53,
   "id": "50b42d3c",
   "metadata": {},
   "outputs": [
    {
     "name": "stdout",
     "output_type": "stream",
     "text": [
      "       Variance                             Img_name  Actual  Predicted\n",
      "290   77.638942                   180_HONOR-10_M.jpg       0          0\n",
      "331  251.965300                 224_ONEPLUS-3T_M.jpg       0          0\n",
      "227  125.461831              80_HUAWEI-P30-PRO_M.jpg       0          0\n",
      "528  110.733517                  172_IPHONE-SE_M.jpg       1          0\n",
      "158   59.141931  324_ASUS-ZENFONE-LIVE-ZB501KL_M.jpg       0          0\n",
      "..          ...                                  ...     ...        ...\n",
      "131   76.530463                  290_IPHONE-SE_M.jpg       0          0\n",
      "44    74.465175                   180_HONOR-10_M.jpg       0          0\n",
      "70     3.298292             20_XIAOMI-REDMI-3S_M.jpg       0          0\n",
      "702   29.915323              61_XIAOMI-REDMI-7_M.jpg       1          0\n",
      "199  129.711572          4_XIAOMI-PROCOFONE-F1_M.jpg       0          0\n",
      "\n",
      "[148 rows x 4 columns]\n"
     ]
    }
   ],
   "source": [
    "print(df_final)"
   ]
  },
  {
   "cell_type": "code",
   "execution_count": null,
   "id": "324ea1f2",
   "metadata": {},
   "outputs": [],
   "source": [
    "folders = ['TruePositive', 'TrueNegative', 'FalsePositive', 'FalseNegative']\n",
    "for folder in folders:\n",
    "    os.makedirs(folder, exist_ok=True)"
   ]
  },
  {
   "cell_type": "code",
   "execution_count": null,
   "id": "43e5bd82",
   "metadata": {},
   "outputs": [],
   "source": [
    "for i, row in df_final.iterrows():\n",
    "    variance = row['Variance']\n",
    "    image_name = row['Img_name']\n",
    "    actual = row['Actual']\n",
    "    prediction = row['Predicted']\n",
    "\n",
    "    source_path = f'Downloads/archive (10)/total/{image_name}'  # Replace with actual path\n",
    "    destination_folder = ''\n",
    "    \n",
    "    if not os.path.exists(source_path):\n",
    "        print(f\"Source file '{source_path}' not found. Skipping.\")\n",
    "        continue\n",
    "        \n",
    "    if actual == 1 and prediction == 1:\n",
    "        destination_folder = 'TruePositive'\n",
    "    elif actual == 0 and prediction == 0:\n",
    "        destination_folder = 'TrueNegative'\n",
    "    elif actual == 0 and prediction == 1:\n",
    "        destination_folder = 'FalsePositive'\n",
    "    elif actual == 1 and prediction == 0:\n",
    "        destination_folder = 'FalseNegative'\n",
    "\n",
    "    destination_path = os.path.join(destination_folder, image_name)\n",
    "    shutil.move(source_path, destination_path)"
   ]
  },
  {
   "cell_type": "code",
   "execution_count": 54,
   "id": "f1aaaa61",
   "metadata": {},
   "outputs": [],
   "source": [
    "folder_path = \"TrueNegative\"\n",
    "images = load_images_from_folder(folder_path)"
   ]
  },
  {
   "cell_type": "code",
   "execution_count": 55,
   "id": "5562a2a5",
   "metadata": {},
   "outputs": [],
   "source": [
    "variances = [image_info['variance'] for image_info in images]\n",
    "image_names = [image_info['name'] for image_info in images]\n",
    "\n",
    "# Create a dictionary for the DataFrame\n",
    "data = {\n",
    "    'Variance': variances,\n",
    "    'Image_Name': image_names\n",
    "}"
   ]
  },
  {
   "cell_type": "code",
   "execution_count": 56,
   "id": "477c6b49",
   "metadata": {},
   "outputs": [],
   "source": [
    "df_tn = pd.DataFrame(data)"
   ]
  },
  {
   "cell_type": "code",
   "execution_count": 57,
   "id": "b245aa3b",
   "metadata": {},
   "outputs": [
    {
     "name": "stdout",
     "output_type": "stream",
     "text": [
      "      Variance                 Image_Name\n",
      "0    78.370947        104_IPHONE-SE_M.jpg\n",
      "1    42.468335        105_IPHONE-SE_M.jpg\n",
      "2   417.325428    108_XIAOMI-MI8-SE_M.jpg\n",
      "3    54.005647     114_ASUS-ZE500KL_M.jpg\n",
      "4    35.090080         117_HONOR-7X_M.jpg\n",
      "..         ...                        ...\n",
      "65  181.271272     87_IPHONE-8-PLUS_M.jpg\n",
      "66   18.912714          88_HONOR-8X_M.jpg\n",
      "67   81.196708  8_SAMSUNG-GALAXY-A6_M.jpg\n",
      "68   77.092347          90_HONOR-7X_M.jpg\n",
      "69   33.452966          94_HONOR-7X_M.jpg\n",
      "\n",
      "[70 rows x 2 columns]\n"
     ]
    }
   ],
   "source": [
    "print(df_tn)"
   ]
  },
  {
   "cell_type": "code",
   "execution_count": 58,
   "id": "91be1184",
   "metadata": {},
   "outputs": [],
   "source": [
    "folder_path = \"TruePositive\"\n",
    "images = load_images_from_folder(folder_path)"
   ]
  },
  {
   "cell_type": "code",
   "execution_count": 59,
   "id": "0dc8cb55",
   "metadata": {},
   "outputs": [],
   "source": [
    "variances = [image_info['variance'] for image_info in images]\n",
    "image_names = [image_info['name'] for image_info in images]\n",
    "\n",
    "# Create a dictionary for the DataFrame\n",
    "data = {\n",
    "    'Variance': variances,\n",
    "    'Image_Name': image_names\n",
    "}"
   ]
  },
  {
   "cell_type": "code",
   "execution_count": 60,
   "id": "a242b218",
   "metadata": {},
   "outputs": [],
   "source": [
    "df_tp = pd.DataFrame(data)"
   ]
  },
  {
   "cell_type": "code",
   "execution_count": 61,
   "id": "8764ef65",
   "metadata": {},
   "outputs": [
    {
     "name": "stdout",
     "output_type": "stream",
     "text": [
      "      Variance                           Image_Name\n",
      "0   314.721705              107_XIAOMI-MI8-SE_M.jpg\n",
      "1     6.071561                   120_HONOR-7X_M.jpg\n",
      "2   568.872230            160_HUAWEI-P20-LITE_M.jpg\n",
      "3   220.431636              161_XIAOMI-MI8-SE_M.jpg\n",
      "4   121.475529          165_SAMSUNG-GALAXY-J3_M.jpg\n",
      "5    34.868285                   178_HONOR-7X_M.jpg\n",
      "6   159.128169                   185_HONOR-6X_M.jpg\n",
      "7    53.253431            187_XIAOMI-REDMI-4A_M.jpg\n",
      "8    44.708475                 252_HUAWEI-P30_M.jpg\n",
      "9    30.952987             255_XIAOMI-REDMI-7_M.jpg\n",
      "10  229.437207                   258_HONOR-10_M.jpg\n",
      "11   11.239133                   261_HONOR-10_M.jpg\n",
      "12   34.421935            263_XIAOMI-REDMI-3S_M.jpg\n",
      "13  131.821180      287_WILEYFOX-SWIFT-2-PLUS_M.jpg\n",
      "14   73.488330          303_SAMSUNG-GALAXY-A8_M.jpg\n",
      "15   97.637363  312_ASUS-ZENFONE-LIVE-ZB501KL_M.jpg\n",
      "16   24.736890                   318_HONOR-7C_M.jpg\n",
      "17  212.829611        340_XIAOMI-PROCOFONE-F1_M.jpg\n",
      "18   56.329567                    54_HONOR-8X_M.jpg\n",
      "19   32.499867                    55_HONOR-8X_M.jpg\n",
      "20  155.160173               60_IPHONE-8-PLUS_M.jpg\n",
      "21   65.741181                  63_HUAWEI-P20_M.jpg\n",
      "22   11.228648                    75_HONOR-8X_M.jpg\n",
      "23  114.215334              79_HUAWEI-P30-PRO_M.jpg\n"
     ]
    }
   ],
   "source": [
    "print(df_tp)"
   ]
  },
  {
   "cell_type": "code",
   "execution_count": 62,
   "id": "583e9f4a",
   "metadata": {},
   "outputs": [],
   "source": [
    "folder_path = \"FalsePositive\"\n",
    "images = load_images_from_folder(folder_path)"
   ]
  },
  {
   "cell_type": "code",
   "execution_count": 63,
   "id": "671a2e65",
   "metadata": {},
   "outputs": [],
   "source": [
    "variances = [image_info['variance'] for image_info in images]\n",
    "image_names = [image_info['name'] for image_info in images]\n",
    "\n",
    "# Create a dictionary for the DataFrame\n",
    "data = {\n",
    "    'Variance': variances,\n",
    "    'Image_Name': image_names\n",
    "}"
   ]
  },
  {
   "cell_type": "code",
   "execution_count": 64,
   "id": "1053c351",
   "metadata": {},
   "outputs": [],
   "source": [
    "df_fp = pd.DataFrame(data)"
   ]
  },
  {
   "cell_type": "code",
   "execution_count": 65,
   "id": "c940bbba",
   "metadata": {},
   "outputs": [
    {
     "name": "stdout",
     "output_type": "stream",
     "text": [
      "      Variance                      Image_Name\n",
      "0   720.835647         164_XIAOMI-MI8-SE_M.jpg\n",
      "1    51.761279              167_HONOR-7X_M.jpg\n",
      "2   529.800251       205_HUAWEI-P20-LITE_M.jpg\n",
      "3   366.131854            224_ONEPLUS-3T_M.jpg\n",
      "4   580.075347  319_XIAOMI-REDMI-NOTE-4X_M.jpg\n",
      "5  1297.278765         47_XIAOMI-REDMI-7_M.jpg\n",
      "6   281.016653     5_XIAOMI-PROCOFONE-F1_M.jpg\n",
      "7   247.822873               99_HONOR-7X_M.jpg\n"
     ]
    }
   ],
   "source": [
    "print(df_fp)"
   ]
  },
  {
   "cell_type": "code",
   "execution_count": 66,
   "id": "ca9a8b6a",
   "metadata": {},
   "outputs": [],
   "source": [
    "folder_path = \"FalseNegative\"\n",
    "images = load_images_from_folder(folder_path)"
   ]
  },
  {
   "cell_type": "code",
   "execution_count": 67,
   "id": "de716eb0",
   "metadata": {},
   "outputs": [],
   "source": [
    "variances = [image_info['variance'] for image_info in images]\n",
    "image_names = [image_info['name'] for image_info in images]\n",
    "\n",
    "# Create a dictionary for the DataFrame\n",
    "data = {\n",
    "    'Variance': variances,\n",
    "    'Image_Name': image_names\n",
    "}"
   ]
  },
  {
   "cell_type": "code",
   "execution_count": 68,
   "id": "ef02c66e",
   "metadata": {},
   "outputs": [],
   "source": [
    "df_fn = pd.DataFrame(data)"
   ]
  },
  {
   "cell_type": "code",
   "execution_count": 69,
   "id": "ff2d26c2",
   "metadata": {},
   "outputs": [
    {
     "name": "stdout",
     "output_type": "stream",
     "text": [
      "      Variance                     Image_Name\n",
      "0    82.185092      171_HUAWEI-P20-LITE_M.jpg\n",
      "1    30.433397            172_IPHONE-SE_M.jpg\n",
      "2    73.602100                215_LG-Q6_M.jpg\n",
      "3   123.610430            219_IPHONE-6S_M.jpg\n",
      "4    21.560796            222_IPHONE-SE_M.jpg\n",
      "5    50.785747             225_HONOR-7C_M.jpg\n",
      "6    63.682510            235_IPHONE-SE_M.jpg\n",
      "7    34.163317    237_SAMSUNG-GALAXY-J5_M.jpg\n",
      "8    14.466013    309_SAMSUNG-GALAXY-A8_M.jpg\n",
      "9    48.557227        32_HUAWEI-P-SMART_M.jpg\n",
      "10  121.177556            338_IPHONE-SE_M.jpg\n",
      "11   42.379887  343_XIAOMI-PROCOFONE-F1_M.jpg\n",
      "12   26.593368              86_HONOR-8X_M.jpg\n",
      "13  114.632356              96_HONOR-7X_M.jpg\n",
      "14   91.135882              97_HONOR-7X_M.jpg\n"
     ]
    }
   ],
   "source": [
    "print(df_fn)"
   ]
  }
 ],
 "metadata": {
  "kernelspec": {
   "display_name": "deblurenv",
   "language": "python",
   "name": "deblurenv"
  },
  "language_info": {
   "codemirror_mode": {
    "name": "ipython",
    "version": 3
   },
   "file_extension": ".py",
   "mimetype": "text/x-python",
   "name": "python",
   "nbconvert_exporter": "python",
   "pygments_lexer": "ipython3",
   "version": "3.11.4"
  }
 },
 "nbformat": 4,
 "nbformat_minor": 5
}
