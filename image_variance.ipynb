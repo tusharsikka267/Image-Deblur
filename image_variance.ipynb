{
 "cells": [
  {
   "cell_type": "code",
   "execution_count": 43,
   "id": "f110dbc0",
   "metadata": {},
   "outputs": [],
   "source": [
    "import os\n",
    "import cv2\n",
    "import matplotlib.pyplot as plt\n",
    "import seaborn as sns"
   ]
  },
  {
   "cell_type": "code",
   "execution_count": 44,
   "id": "3e49a80e",
   "metadata": {},
   "outputs": [],
   "source": [
    "data_motion = []"
   ]
  },
  {
   "cell_type": "code",
   "execution_count": 45,
   "id": "bbf717dd",
   "metadata": {},
   "outputs": [],
   "source": [
    "def load_images_from_folder(folder_path):\n",
    "    image_data = []  # List to store image data\n",
    "    for filename in os.listdir(folder_path):\n",
    "        if filename.endswith(\".jpg\") or filename.endswith(\".png\"):\n",
    "            image_path = os.path.join(folder_path, filename)\n",
    "            img = cv2.imread(image_path)  # Read the image using OpenCV\n",
    "            \n",
    "            if img is not None:\n",
    "                gray = cv2.cvtColor(img, cv2.COLOR_BGR2GRAY)\n",
    "                variance = cv2.Laplacian(gray, cv2.CV_64F).var()\n",
    "                \n",
    "                data_motion.append(variance)\n",
    "                \n",
    "                image_info = {\n",
    "                    'name': filename,  # Store the image filename\n",
    "                    'image': img,      # Store the loaded image\n",
    "                    'variance': variance  # Store the calculated variance\n",
    "                }\n",
    "                \n",
    "                image_data.append(image_info)\n",
    "    return image_data"
   ]
  },
  {
   "cell_type": "code",
   "execution_count": 46,
   "id": "2bc494e4",
   "metadata": {},
   "outputs": [],
   "source": [
    "folder_path = \"Downloads/archive (10)/motion_blurred\"\n",
    "images = load_images_from_folder(folder_path)"
   ]
  },
  {
   "cell_type": "code",
   "execution_count": 47,
   "id": "164fdc8a",
   "metadata": {},
   "outputs": [],
   "source": [
    "categories = \"motion_blur\"  # You can populate this list based on your image categories\n",
    "image_names = [image_info['name'] for image_info in images]\n",
    "variances = [image_info['variance'] for image_info in images]\n",
    "\n",
    "# Create a dictionary for the DataFrame\n",
    "data = {\n",
    "    'Category': categories,\n",
    "    'Image_Name': image_names,\n",
    "    'Variance': variances\n",
    "}"
   ]
  },
  {
   "cell_type": "code",
   "execution_count": 48,
   "id": "76fe685c",
   "metadata": {},
   "outputs": [
    {
     "name": "stdout",
     "output_type": "stream",
     "text": [
      "        Category               Image_Name    Variance\n",
      "0    motion_blur     103_HUAWEI-P20_M.jpg   64.365429\n",
      "1    motion_blur      104_IPHONE-SE_M.jpg   78.370947\n",
      "2    motion_blur      105_IPHONE-SE_M.jpg   42.468335\n",
      "3    motion_blur  107_XIAOMI-MI8-SE_M.jpg  314.721705\n",
      "4    motion_blur  108_XIAOMI-MI8-SE_M.jpg  417.325428\n",
      "..           ...                      ...         ...\n",
      "241  motion_blur        96_HONOR-7X_M.jpg  114.632356\n",
      "242  motion_blur        97_HONOR-7X_M.jpg   91.135882\n",
      "243  motion_blur        98_HONOR-7X_M.jpg   77.599808\n",
      "244  motion_blur        99_HONOR-7X_M.jpg  247.822873\n",
      "245  motion_blur       9_HUAWEI-P20_M.jpg   27.885955\n",
      "\n",
      "[246 rows x 3 columns]\n"
     ]
    }
   ],
   "source": [
    "df_motion = pd.DataFrame(data)\n",
    "\n",
    "# Display the DataFrame\n",
    "print(df_motion)"
   ]
  },
  {
   "cell_type": "code",
   "execution_count": 49,
   "id": "e97d1e92",
   "metadata": {},
   "outputs": [
    {
     "name": "stdout",
     "output_type": "stream",
     "text": [
      "50.0th percentile: 63.45\n",
      "10.0th percentile: 17.29\n",
      "20.0th percentile: 26.59\n",
      "30.0th percentile: 33.79\n",
      "40.0th percentile: 49.56\n",
      "50.0th percentile: 63.45\n",
      "60.0th percentile: 82.86\n",
      "70.0th percentile: 106.15\n",
      "80.0th percentile: 147.40\n",
      "90.0th percentile: 275.30\n",
      "95.0th percentile: 497.21\n"
     ]
    }
   ],
   "source": [
    "import numpy as np\n",
    "\n",
    "# Example dataset\n",
    "\n",
    "\n",
    "percentiles = [0.5, 0.1, 0.2, 0.3, 0.4, 0.5, 0.6, 0.7, 0.8, 0.9, 0.95]\n",
    "\n",
    "# Calculate percentiles for the \"Variance\" column\n",
    "variance_data = df_motion[\"Variance\"]\n",
    "for percentile in percentiles:\n",
    "    value = np.percentile(variance_data, percentile * 100)\n",
    "    print(f\"{percentile * 100}th percentile: {value:.2f}\")\n"
   ]
  },
  {
   "cell_type": "code",
   "execution_count": 50,
   "id": "814fa579",
   "metadata": {},
   "outputs": [
    {
     "data": {
      "text/plain": [
       "Text(0.5, 1.0, 'Box Plot for motion blurred')"
      ]
     },
     "execution_count": 50,
     "metadata": {},
     "output_type": "execute_result"
    },
    {
     "data": {
      "image/png": "[encoded data removed]",
      "text/plain": [
       "<Figure size 640x480 with 1 Axes>"
      ]
     },
     "metadata": {},
     "output_type": "display_data"
    }
   ],
   "source": [
    "plt.boxplot(data_motion)\n",
    "plt.xlabel('Data')\n",
    "plt.ylabel('Values')\n",
    "plt.title('Box Plot for motion blurred')"
   ]
  },
  {
   "cell_type": "code",
   "execution_count": 51,
   "id": "b7fa5a3d",
   "metadata": {},
   "outputs": [
    {
     "name": "stdout",
     "output_type": "stream",
     "text": [
      "139.33524447312476\n"
     ]
    }
   ],
   "source": [
    "total_sum = sum(data_motion)\n",
    "average = total_sum / len(data_motion)\n",
    "print(average)"
   ]
  },
  {
   "cell_type": "code",
   "execution_count": 52,
   "id": "bff0a6d0",
   "metadata": {},
   "outputs": [],
   "source": [
    "data_sharp =[]"
   ]
  },
  {
   "cell_type": "code",
   "execution_count": 53,
   "id": "26dddcd1",
   "metadata": {},
   "outputs": [],
   "source": [
    "def load_images_from_folder(folder_path):\n",
    "    image_data = []  # List to store image data\n",
    "    for filename in os.listdir(folder_path):\n",
    "        if filename.endswith(\".jpg\") or filename.endswith(\".png\"):\n",
    "            image_path = os.path.join(folder_path, filename)\n",
    "            img = cv2.imread(image_path)  # Read the image using OpenCV\n",
    "            \n",
    "            if img is not None:\n",
    "                gray = cv2.cvtColor(img, cv2.COLOR_BGR2GRAY)\n",
    "                variance = cv2.Laplacian(gray, cv2.CV_64F).var()\n",
    "                \n",
    "                data_sharp.append(variance)\n",
    "                \n",
    "                image_info = {\n",
    "                    'name': filename,  # Store the image filename\n",
    "                    'image': img,      # Store the loaded image\n",
    "                    'variance': variance  # Store the calculated variance\n",
    "                }\n",
    "                \n",
    "                image_data.append(image_info)\n",
    "    return image_data"
   ]
  },
  {
   "cell_type": "code",
   "execution_count": 54,
   "id": "6995c8a4",
   "metadata": {},
   "outputs": [],
   "source": [
    "folder_path = \"Downloads/archive (10)/sharp\"\n",
    "images = load_images_from_folder(folder_path)"
   ]
  },
  {
   "cell_type": "code",
   "execution_count": 55,
   "id": "5fb85757",
   "metadata": {},
   "outputs": [],
   "source": [
    "categories = \"sharp\"  # You can populate this list based on your image categories\n",
    "image_names = [image_info['name'] for image_info in images]\n",
    "variances = [image_info['variance'] for image_info in images]\n",
    "\n",
    "# Create a dictionary for the DataFrame\n",
    "data = {\n",
    "    'Category': categories,\n",
    "    'Image_Name': image_names,\n",
    "    'Variance': variances\n",
    "}"
   ]
  },
  {
   "cell_type": "code",
   "execution_count": 56,
   "id": "e28a786d",
   "metadata": {},
   "outputs": [
    {
     "name": "stdout",
     "output_type": "stream",
     "text": [
      "    Category               Image_Name     Variance\n",
      "0      sharp     103_HUAWEI-P20_S.jpg  1296.740640\n",
      "1      sharp      104_IPHONE-SE_S.jpg   208.050138\n",
      "2      sharp      105_IPHONE-SE_S.jpg    52.056754\n",
      "3      sharp  107_XIAOMI-MI8-SE_S.jpg   425.451297\n",
      "4      sharp  108_XIAOMI-MI8-SE_S.jpg    67.733445\n",
      "..       ...                      ...          ...\n",
      "241    sharp        96_HONOR-7X_S.jpg   194.254659\n",
      "242    sharp        97_HONOR-7X_S.jpg   139.252947\n",
      "243    sharp        98_HONOR-7X_S.jpg   213.178318\n",
      "244    sharp        99_HONOR-7X_S.jpg   651.677632\n",
      "245    sharp       9_HUAWEI-P20_S.jpg   225.555985\n",
      "\n",
      "[246 rows x 3 columns]\n"
     ]
    }
   ],
   "source": [
    "df_sharp = pd.DataFrame(data)\n",
    "\n",
    "# Display the DataFrame\n",
    "print(df_sharp)"
   ]
  },
  {
   "cell_type": "code",
   "execution_count": 57,
   "id": "7b52abe1",
   "metadata": {},
   "outputs": [
    {
     "name": "stdout",
     "output_type": "stream",
     "text": [
      "50.0th percentile: 261.51\n",
      "10.0th percentile: 71.95\n",
      "20.0th percentile: 115.70\n",
      "30.0th percentile: 156.03\n",
      "40.0th percentile: 218.14\n",
      "50.0th percentile: 261.51\n",
      "60.0th percentile: 339.42\n",
      "70.0th percentile: 507.37\n",
      "80.0th percentile: 651.68\n",
      "90.0th percentile: 1078.01\n",
      "95.0th percentile: 1560.37\n"
     ]
    }
   ],
   "source": [
    "import numpy as np\n",
    "\n",
    "# Example dataset\n",
    "\n",
    "\n",
    "percentiles = [0.5, 0.1, 0.2, 0.3, 0.4, 0.5, 0.6, 0.7, 0.8, 0.9, 0.95]\n",
    "\n",
    "# Calculate percentiles for the \"Variance\" column\n",
    "variance_data = df_sharp[\"Variance\"]\n",
    "for percentile in percentiles:\n",
    "    value = np.percentile(variance_data, percentile * 100)\n",
    "    print(f\"{percentile * 100}th percentile: {value:.2f}\")\n"
   ]
  },
  {
   "cell_type": "code",
   "execution_count": 58,
   "id": "418d7542",
   "metadata": {},
   "outputs": [
    {
     "data": {
      "text/plain": [
       "Text(0.5, 1.0, 'Box Plot for sharp images')"
      ]
     },
     "execution_count": 58,
     "metadata": {},
     "output_type": "execute_result"
    },
    {
     "data": {
      "image/png": "[encoded data removed]",
      "text/plain": [
       "<Figure size 640x480 with 1 Axes>"
      ]
     },
     "metadata": {},
     "output_type": "display_data"
    }
   ],
   "source": [
    "plt.boxplot(data_sharp)\n",
    "plt.xlabel('Data')\n",
    "plt.ylabel('Values')\n",
    "plt.title('Box Plot for sharp images')"
   ]
  },
  {
   "cell_type": "code",
   "execution_count": 59,
   "id": "c1ae9e7f",
   "metadata": {},
   "outputs": [
    {
     "name": "stdout",
     "output_type": "stream",
     "text": [
      "512.4520800561851\n"
     ]
    }
   ],
   "source": [
    "total_sum = sum(data_sharp)\n",
    "average = total_sum / len(data_sharp)\n",
    "print(average)"
   ]
  },
  {
   "cell_type": "code",
   "execution_count": 60,
   "id": "42dc09b8",
   "metadata": {},
   "outputs": [],
   "source": [
    "data_defocussed = []"
   ]
  },
  {
   "cell_type": "code",
   "execution_count": 61,
   "id": "49c01f8b",
   "metadata": {},
   "outputs": [],
   "source": [
    "def load_images_from_folder(folder_path):\n",
    "    image_data = []  # List to store image data\n",
    "    for filename in os.listdir(folder_path):\n",
    "        if filename.endswith(\".jpg\") or filename.endswith(\".png\"):\n",
    "            image_path = os.path.join(folder_path, filename)\n",
    "            img = cv2.imread(image_path)  # Read the image using OpenCV\n",
    "            \n",
    "            if img is not None:\n",
    "                gray = cv2.cvtColor(img, cv2.COLOR_BGR2GRAY)\n",
    "                variance = cv2.Laplacian(gray, cv2.CV_64F).var()\n",
    "                \n",
    "                data_defocussed.append(variance)\n",
    "                \n",
    "                image_info = {\n",
    "                    'name': filename,  # Store the image filename\n",
    "                    'image': img,      # Store the loaded image\n",
    "                    'variance': variance  # Store the calculated variance\n",
    "                }\n",
    "                \n",
    "                image_data.append(image_info)\n",
    "    return image_data"
   ]
  },
  {
   "cell_type": "code",
   "execution_count": 62,
   "id": "f947083e",
   "metadata": {},
   "outputs": [],
   "source": [
    "folder_path = \"Downloads/archive (10)/defocused_blurred\"\n",
    "images = load_images_from_folder(folder_path)"
   ]
  },
  {
   "cell_type": "code",
   "execution_count": 63,
   "id": "9ed47fcc",
   "metadata": {},
   "outputs": [],
   "source": [
    "categories = \"defocussed\"  # You can populate this list based on your image categories\n",
    "image_names = [image_info['name'] for image_info in images]\n",
    "variances = [image_info['variance'] for image_info in images]\n",
    "\n",
    "# Create a dictionary for the DataFrame\n",
    "data = {\n",
    "    'Category': categories,\n",
    "    'Image_Name': image_names,\n",
    "    'Variance': variances\n",
    "}"
   ]
  },
  {
   "cell_type": "code",
   "execution_count": 64,
   "id": "0a306864",
   "metadata": {},
   "outputs": [
    {
     "name": "stdout",
     "output_type": "stream",
     "text": [
      "       Category               Image_Name    Variance\n",
      "0    defocussed     103_HUAWEI-P20_F.jpg   13.435609\n",
      "1    defocussed      104_IPHONE-SE_F.jpg  105.239330\n",
      "2    defocussed      105_IPHONE-SE_F.jpg   26.121440\n",
      "3    defocussed  107_XIAOMI-MI8-SE_F.jpg    3.373216\n",
      "4    defocussed  108_XIAOMI-MI8-SE_F.jpg    4.259228\n",
      "..          ...                      ...         ...\n",
      "241  defocussed        96_HONOR-7X_F.jpg   49.939856\n",
      "242  defocussed        97_HONOR-7X_F.jpg   61.631764\n",
      "243  defocussed        98_HONOR-7X_F.jpg   59.446597\n",
      "244  defocussed        99_HONOR-7X_F.jpg   50.562795\n",
      "245  defocussed       9_HUAWEI-P20_F.jpg   22.541615\n",
      "\n",
      "[246 rows x 3 columns]\n"
     ]
    }
   ],
   "source": [
    "df_defocussed = pd.DataFrame(data)\n",
    "\n",
    "# Display the DataFrame\n",
    "print(df_defocussed)"
   ]
  },
  {
   "cell_type": "code",
   "execution_count": 65,
   "id": "5e4a4b76",
   "metadata": {},
   "outputs": [
    {
     "name": "stdout",
     "output_type": "stream",
     "text": [
      "50.0th percentile: 32.14\n",
      "10.0th percentile: 9.42\n",
      "20.0th percentile: 16.34\n",
      "30.0th percentile: 21.14\n",
      "40.0th percentile: 26.76\n",
      "50.0th percentile: 32.14\n",
      "60.0th percentile: 44.37\n",
      "70.0th percentile: 60.86\n",
      "80.0th percentile: 95.66\n",
      "90.0th percentile: 162.78\n",
      "95.0th percentile: 238.49\n"
     ]
    }
   ],
   "source": [
    "import numpy as np\n",
    "\n",
    "# Example dataset\n",
    "\n",
    "\n",
    "percentiles = [0.5, 0.1, 0.2, 0.3, 0.4, 0.5, 0.6, 0.7, 0.8, 0.9, 0.95]\n",
    "\n",
    "# Calculate percentiles for the \"Variance\" column\n",
    "variance_data = df_defocussed[\"Variance\"]\n",
    "for percentile in percentiles:\n",
    "    value = np.percentile(variance_data, percentile * 100)\n",
    "    print(f\"{percentile * 100}th percentile: {value:.2f}\")\n"
   ]
  },
  {
   "cell_type": "code",
   "execution_count": 66,
   "id": "790529ec",
   "metadata": {},
   "outputs": [
    {
     "data": {
      "text/plain": [
       "Text(0.5, 1.0, 'Box Plot for defocused images')"
      ]
     },
     "execution_count": 66,
     "metadata": {},
     "output_type": "execute_result"
    },
    {
     "data": {
      "image/png": "[encoded data removed]",
      "text/plain": [
       "<Figure size 640x480 with 1 Axes>"
      ]
     },
     "metadata": {},
     "output_type": "display_data"
    }
   ],
   "source": [
    "plt.boxplot(data_defocussed)\n",
    "plt.xlabel('Data')\n",
    "plt.ylabel('Values')\n",
    "plt.title('Box Plot for defocused images')"
   ]
  },
  {
   "cell_type": "code",
   "execution_count": 67,
   "id": "d7c9057d",
   "metadata": {},
   "outputs": [
    {
     "name": "stdout",
     "output_type": "stream",
     "text": [
      "85.54327719416825\n"
     ]
    }
   ],
   "source": [
    "total_sum = sum(data_defocussed)\n",
    "average = total_sum / len(data_defocussed)\n",
    "print(average)"
   ]
  },
  {
   "cell_type": "code",
   "execution_count": 68,
   "id": "fafc44e1",
   "metadata": {},
   "outputs": [
    {
     "name": "stdout",
     "output_type": "stream",
     "text": [
      "        Category               Image_Name    Variance\n",
      "0    motion_blur     103_HUAWEI-P20_M.jpg   64.365429\n",
      "1    motion_blur      104_IPHONE-SE_M.jpg   78.370947\n",
      "2    motion_blur      105_IPHONE-SE_M.jpg   42.468335\n",
      "3    motion_blur  107_XIAOMI-MI8-SE_M.jpg  314.721705\n",
      "4    motion_blur  108_XIAOMI-MI8-SE_M.jpg  417.325428\n",
      "..           ...                      ...         ...\n",
      "733   defocussed        96_HONOR-7X_F.jpg   49.939856\n",
      "734   defocussed        97_HONOR-7X_F.jpg   61.631764\n",
      "735   defocussed        98_HONOR-7X_F.jpg   59.446597\n",
      "736   defocussed        99_HONOR-7X_F.jpg   50.562795\n",
      "737   defocussed       9_HUAWEI-P20_F.jpg   22.541615\n",
      "\n",
      "[738 rows x 3 columns]\n"
     ]
    }
   ],
   "source": [
    "combined_df = pd.concat([df_motion, df_sharp, df_defocussed], ignore_index=True)\n",
    "\n",
    "print(combined_df)"
   ]
  },
  {
   "cell_type": "code",
   "execution_count": 70,
   "id": "728573ba",
   "metadata": {},
   "outputs": [
    {
     "data": {
      "text/plain": [
       "count     246.000000\n",
       "mean       85.543277\n",
       "std       353.933984\n",
       "min         1.788397\n",
       "25%        18.388648\n",
       "50%        32.139226\n",
       "75%        72.153761\n",
       "max      5466.459950\n",
       "Name: Variance, dtype: float64"
      ]
     },
     "execution_count": 70,
     "metadata": {},
     "output_type": "execute_result"
    }
   ],
   "source": [
    "combined_df[combined_df['Category']=='defocussed']['Variance'].describe() "
   ]
  },
  {
   "cell_type": "code",
   "execution_count": 71,
   "id": "3e0fb5da",
   "metadata": {},
   "outputs": [
    {
     "data": {
      "text/plain": [
       "count     246.000000\n",
       "mean      139.335244\n",
       "std       283.086376\n",
       "min         3.298292\n",
       "25%        29.654721\n",
       "50%        63.445699\n",
       "75%       123.950958\n",
       "max      2456.157000\n",
       "Name: Variance, dtype: float64"
      ]
     },
     "execution_count": 71,
     "metadata": {},
     "output_type": "execute_result"
    }
   ],
   "source": [
    "combined_df[combined_df['Category']=='motion_blur']['Variance'].describe() "
   ]
  },
  {
   "cell_type": "code",
   "execution_count": 72,
   "id": "4811c831",
   "metadata": {},
   "outputs": [
    {
     "data": {
      "text/plain": [
       "count      246.000000\n",
       "mean       512.452080\n",
       "std        880.575679\n",
       "min         15.857564\n",
       "25%        139.956230\n",
       "50%        261.506980\n",
       "75%        564.824674\n",
       "max      10613.118061\n",
       "Name: Variance, dtype: float64"
      ]
     },
     "execution_count": 72,
     "metadata": {},
     "output_type": "execute_result"
    }
   ],
   "source": [
    "combined_df[combined_df['Category']=='sharp']['Variance'].describe() "
   ]
  },
  {
   "cell_type": "code",
   "execution_count": 73,
   "id": "abcd98fb",
   "metadata": {},
   "outputs": [
    {
     "data": {
      "image/png": "[encoded data removed]",
      "text/plain": [
       "<Figure size 640x480 with 1 Axes>"
      ]
     },
     "metadata": {},
     "output_type": "display_data"
    }
   ],
   "source": [
    "sns.stripplot(x='Category', y='Variance', data=combined_df, jitter=True)\n",
    "\n",
    "\n",
    "# Show the plot\n",
    "plt.show()"
   ]
  },
  {
   "cell_type": "code",
   "execution_count": 74,
   "id": "a1e0f2d8",
   "metadata": {},
   "outputs": [],
   "source": [
    "import pandas as pd\n",
    "categories = ['blur','blur', 'sharp']\n",
    "\n",
    "# Combine the lists and categories into a list of tuples\n",
    "data = [(value, category) for category, values in zip(categories, [data_motion,  data_defocussed,data_sharp]) for value in values]\n",
    "\n",
    "# Create a DataFrame from the list of tuples\n",
    "daf = pd.DataFrame(data, columns=['Value', 'Category'])"
   ]
  },
  {
   "cell_type": "code",
   "execution_count": 75,
   "id": "20414744",
   "metadata": {},
   "outputs": [
    {
     "name": "stdout",
     "output_type": "stream",
     "text": [
      "          Value Category\n",
      "0     64.365429     blur\n",
      "1     78.370947     blur\n",
      "2     42.468335     blur\n",
      "3    314.721705     blur\n",
      "4    417.325428     blur\n",
      "..          ...      ...\n",
      "733  194.254659    sharp\n",
      "734  139.252947    sharp\n",
      "735  213.178318    sharp\n",
      "736  651.677632    sharp\n",
      "737  225.555985    sharp\n",
      "\n",
      "[738 rows x 2 columns]\n"
     ]
    }
   ],
   "source": [
    "print(daf)"
   ]
  },
  {
   "cell_type": "code",
   "execution_count": 79,
   "id": "2392dbe3",
   "metadata": {},
   "outputs": [
    {
     "name": "stdout",
     "output_type": "stream",
     "text": [
      "Number of 'blur' instances: 492\n"
     ]
    }
   ],
   "source": [
    "category_counts = daf[\"Category\"].value_counts()\n",
    "\n",
    "# Print the count of \"blur\" category\n",
    "blur_count = category_counts.get(\"blur\", 0)  # Get the count for \"blur\" category\n",
    "print(\"Number of 'blur' instances:\", blur_count)"
   ]
  },
  {
   "cell_type": "code",
   "execution_count": 80,
   "id": "5ae740cf",
   "metadata": {},
   "outputs": [],
   "source": [
    "from sklearn.model_selection import train_test_split\n",
    "from sklearn.ensemble import RandomForestClassifier\n",
    "from sklearn.metrics import accuracy_score, confusion_matrix"
   ]
  },
  {
   "cell_type": "code",
   "execution_count": 81,
   "id": "6ca6053f",
   "metadata": {},
   "outputs": [],
   "source": [
    "X = daf[['Value']]\n",
    "y = daf['Category']"
   ]
  },
  {
   "cell_type": "code",
   "execution_count": 82,
   "id": "5b216c98",
   "metadata": {},
   "outputs": [],
   "source": [
    "X_train, X_test, y_train, y_test = train_test_split(X, y, test_size=0.2, random_state=42)"
   ]
  },
  {
   "cell_type": "code",
   "execution_count": 83,
   "id": "1e216473",
   "metadata": {},
   "outputs": [
    {
     "data": {
      "text/html": [
       "<style>#sk-container-id-2 {color: black;}#sk-container-id-2 pre{padding: 0;}#sk-container-id-2 div.sk-toggleable {background-color: white;}#sk-container-id-2 label.sk-toggleable__label {cursor: pointer;display: block;width: 100%;margin-bottom: 0;padding: 0.3em;box-sizing: border-box;text-align: center;}#sk-container-id-2 label.sk-toggleable__label-arrow:before {content: \"▸\";float: left;margin-right: 0.25em;color: #696969;}#sk-container-id-2 label.sk-toggleable__label-arrow:hover:before {color: black;}#sk-container-id-2 div.sk-estimator:hover label.sk-toggleable__label-arrow:before {color: black;}#sk-container-id-2 div.sk-toggleable__content {max-height: 0;max-width: 0;overflow: hidden;text-align: left;background-color: #f0f8ff;}#sk-container-id-2 div.sk-toggleable__content pre {margin: 0.2em;color: black;border-radius: 0.25em;background-color: #f0f8ff;}#sk-container-id-2 input.sk-toggleable__control:checked~div.sk-toggleable__content {max-height: 200px;max-width: 100%;overflow: auto;}#sk-container-id-2 input.sk-toggleable__control:checked~label.sk-toggleable__label-arrow:before {content: \"▾\";}#sk-container-id-2 div.sk-estimator input.sk-toggleable__control:checked~label.sk-toggleable__label {background-color: #d4ebff;}#sk-container-id-2 div.sk-label input.sk-toggleable__control:checked~label.sk-toggleable__label {background-color: #d4ebff;}#sk-container-id-2 input.sk-hidden--visually {border: 0;clip: rect(1px 1px 1px 1px);clip: rect(1px, 1px, 1px, 1px);height: 1px;margin: -1px;overflow: hidden;padding: 0;position: absolute;width: 1px;}#sk-container-id-2 div.sk-estimator {font-family: monospace;background-color: #f0f8ff;border: 1px dotted black;border-radius: 0.25em;box-sizing: border-box;margin-bottom: 0.5em;}#sk-container-id-2 div.sk-estimator:hover {background-color: #d4ebff;}#sk-container-id-2 div.sk-parallel-item::after {content: \"\";width: 100%;border-bottom: 1px solid gray;flex-grow: 1;}#sk-container-id-2 div.sk-label:hover label.sk-toggleable__label {background-color: #d4ebff;}#sk-container-id-2 div.sk-serial::before {content: \"\";position: absolute;border-left: 1px solid gray;box-sizing: border-box;top: 0;bottom: 0;left: 50%;z-index: 0;}#sk-container-id-2 div.sk-serial {display: flex;flex-direction: column;align-items: center;background-color: white;padding-right: 0.2em;padding-left: 0.2em;position: relative;}#sk-container-id-2 div.sk-item {position: relative;z-index: 1;}#sk-container-id-2 div.sk-parallel {display: flex;align-items: stretch;justify-content: center;background-color: white;position: relative;}#sk-container-id-2 div.sk-item::before, #sk-container-id-2 div.sk-parallel-item::before {content: \"\";position: absolute;border-left: 1px solid gray;box-sizing: border-box;top: 0;bottom: 0;left: 50%;z-index: -1;}#sk-container-id-2 div.sk-parallel-item {display: flex;flex-direction: column;z-index: 1;position: relative;background-color: white;}#sk-container-id-2 div.sk-parallel-item:first-child::after {align-self: flex-end;width: 50%;}#sk-container-id-2 div.sk-parallel-item:last-child::after {align-self: flex-start;width: 50%;}#sk-container-id-2 div.sk-parallel-item:only-child::after {width: 0;}#sk-container-id-2 div.sk-dashed-wrapped {border: 1px dashed gray;margin: 0 0.4em 0.5em 0.4em;box-sizing: border-box;padding-bottom: 0.4em;background-color: white;}#sk-container-id-2 div.sk-label label {font-family: monospace;font-weight: bold;display: inline-block;line-height: 1.2em;}#sk-container-id-2 div.sk-label-container {text-align: center;}#sk-container-id-2 div.sk-container {/* jupyter's `normalize.less` sets `[hidden] { display: none; }` but bootstrap.min.css set `[hidden] { display: none !important; }` so we also need the `!important` here to be able to override the default hidden behavior on the sphinx rendered scikit-learn.org. See: https://github.com/scikit-learn/scikit-learn/issues/21755 */display: inline-block !important;position: relative;}#sk-container-id-2 div.sk-text-repr-fallback {display: none;}</style><div id=\"sk-container-id-2\" class=\"sk-top-container\"><div class=\"sk-text-repr-fallback\"><pre>RandomForestClassifier(random_state=42)</pre><b>In a Jupyter environment, please rerun this cell to show the HTML representation or trust the notebook. <br />On GitHub, the HTML representation is unable to render, please try loading this page with nbviewer.org.</b></div><div class=\"sk-container\" hidden><div class=\"sk-item\"><div class=\"sk-estimator sk-toggleable\"><input class=\"sk-toggleable__control sk-hidden--visually\" id=\"sk-estimator-id-2\" type=\"checkbox\" checked><label for=\"sk-estimator-id-2\" class=\"sk-toggleable__label sk-toggleable__label-arrow\">RandomForestClassifier</label><div class=\"sk-toggleable__content\"><pre>RandomForestClassifier(random_state=42)</pre></div></div></div></div></div>"
      ],
      "text/plain": [
       "RandomForestClassifier(random_state=42)"
      ]
     },
     "execution_count": 83,
     "metadata": {},
     "output_type": "execute_result"
    }
   ],
   "source": [
    "rf_model = RandomForestClassifier(n_estimators=100, random_state=42)\n",
    "\n",
    "# Train the model on the training data\n",
    "rf_model.fit(X_train, y_train)"
   ]
  },
  {
   "cell_type": "code",
   "execution_count": 84,
   "id": "53c0a2df",
   "metadata": {},
   "outputs": [],
   "source": [
    "y_pred = rf_model.predict(X_test)"
   ]
  },
  {
   "cell_type": "code",
   "execution_count": 85,
   "id": "ec300f7a",
   "metadata": {},
   "outputs": [
    {
     "name": "stdout",
     "output_type": "stream",
     "text": [
      "Confusion Matrix:\n",
      "[[85 15]\n",
      " [21 27]]\n"
     ]
    }
   ],
   "source": [
    "print(\"Confusion Matrix:\")\n",
    "print(confusion_matrix(y_test, y_pred))"
   ]
  },
  {
   "cell_type": "code",
   "execution_count": 86,
   "id": "2c57e885",
   "metadata": {},
   "outputs": [
    {
     "name": "stdout",
     "output_type": "stream",
     "text": [
      "Accuracy: 0.76\n"
     ]
    }
   ],
   "source": [
    "accuracy = accuracy_score(y_test, y_pred)\n",
    "print(f\"Accuracy: {accuracy:.2f}\")"
   ]
  }
 ],
 "metadata": {
  "kernelspec": {
   "display_name": "deblurenv",
   "language": "python",
   "name": "deblurenv"
  },
  "language_info": {
   "codemirror_mode": {
    "name": "ipython",
    "version": 3
   },
   "file_extension": ".py",
   "mimetype": "text/x-python",
   "name": "python",
   "nbconvert_exporter": "python",
   "pygments_lexer": "ipython3",
   "version": "3.11.4"
  }
 },
 "nbformat": 4,
 "nbformat_minor": 5
}
