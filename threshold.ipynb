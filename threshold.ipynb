{
 "cells": [
  {
   "cell_type": "code",
   "execution_count": 85,
   "id": "8872d5ce",
   "metadata": {},
   "outputs": [],
   "source": [
    "import os\n",
    "import cv2\n",
    "import pandas as pd\n",
    "import numpy as np\n",
    "import xgboost as xgb\n",
    "import matplotlib.pyplot as plt"
   ]
  },
  {
   "cell_type": "code",
   "execution_count": 88,
   "id": "893ddbee",
   "metadata": {},
   "outputs": [],
   "source": [
    "from sklearn.model_selection import train_test_split\n",
    "from sklearn.ensemble import RandomForestClassifier\n",
    "from sklearn.metrics import accuracy_score, confusion_matrix\n",
    "from sklearn.metrics import roc_curve, auc"
   ]
  },
  {
   "cell_type": "code",
   "execution_count": 64,
   "id": "ac4ccaed",
   "metadata": {},
   "outputs": [],
   "source": [
    "def load_images_from_folder(folder_path):\n",
    "    image_data = []  # List to store image data\n",
    "    for filename in os.listdir(folder_path):\n",
    "        if filename.endswith(\".jpg\") or filename.endswith(\".png\"):\n",
    "            image_path = os.path.join(folder_path, filename)\n",
    "            img = cv2.imread(image_path)  # Read the image using OpenCV\n",
    "            \n",
    "            if img is not None:\n",
    "                gray = cv2.cvtColor(img, cv2.COLOR_BGR2GRAY)\n",
    "                variance = cv2.Laplacian(gray, cv2.CV_64F).var()\n",
    "                \n",
    "                image_info = {\n",
    "                    'name': filename,  # Store the image filename\n",
    "                    'image': img,      # Store the loaded image\n",
    "                    'variance': variance  # Store the calculated variance\n",
    "                }\n",
    "                \n",
    "                image_data.append(image_info)\n",
    "    return image_data"
   ]
  },
  {
   "cell_type": "code",
   "execution_count": 65,
   "id": "05df66c0",
   "metadata": {},
   "outputs": [],
   "source": [
    "folder_path = \"Downloads/archive (10)/motion_blurred\"\n",
    "images = load_images_from_folder(folder_path)"
   ]
  },
  {
   "cell_type": "code",
   "execution_count": 66,
   "id": "45816f9c",
   "metadata": {},
   "outputs": [],
   "source": [
    "categories = \"blur\"  # You can populate this list based on your image categories\n",
    "variances = [image_info['variance'] for image_info in images]\n",
    "\n",
    "# Create a dictionary for the DataFrame\n",
    "data = {\n",
    "    'Category': categories,\n",
    "    'Variance': variances\n",
    "}"
   ]
  },
  {
   "cell_type": "code",
   "execution_count": 68,
   "id": "aa4a4f08",
   "metadata": {},
   "outputs": [],
   "source": [
    "df_motion = pd.DataFrame(data)"
   ]
  },
  {
   "cell_type": "code",
   "execution_count": 69,
   "id": "e3b533a8",
   "metadata": {},
   "outputs": [],
   "source": [
    "folder_path = \"Downloads/archive (10)/sharp\"\n",
    "images = load_images_from_folder(folder_path)"
   ]
  },
  {
   "cell_type": "code",
   "execution_count": 70,
   "id": "43e76c9b",
   "metadata": {},
   "outputs": [],
   "source": [
    "categories = \"sharp\"  # You can populate this list based on your image categories\n",
    "variances = [image_info['variance'] for image_info in images]\n",
    "\n",
    "# Create a dictionary for the DataFrame\n",
    "data = {\n",
    "    'Category': categories,\n",
    "    'Variance': variances\n",
    "}"
   ]
  },
  {
   "cell_type": "code",
   "execution_count": 71,
   "id": "201f8629",
   "metadata": {},
   "outputs": [],
   "source": [
    "df_sharp = pd.DataFrame(data)"
   ]
  },
  {
   "cell_type": "code",
   "execution_count": 72,
   "id": "db50bff6",
   "metadata": {},
   "outputs": [],
   "source": [
    "folder_path = \"Downloads/archive (10)/defocused_blurred\"\n",
    "images = load_images_from_folder(folder_path)"
   ]
  },
  {
   "cell_type": "code",
   "execution_count": 73,
   "id": "2a58297b",
   "metadata": {},
   "outputs": [],
   "source": [
    "categories = \"blur\"  # You can populate this list based on your image categories\n",
    "variances = [image_info['variance'] for image_info in images]\n",
    "\n",
    "# Create a dictionary for the DataFrame\n",
    "data = {\n",
    "    'Category': categories,\n",
    "    'Variance': variances\n",
    "}"
   ]
  },
  {
   "cell_type": "code",
   "execution_count": 74,
   "id": "0fdc898e",
   "metadata": {},
   "outputs": [],
   "source": [
    "df_defocussed = pd.DataFrame(data)"
   ]
  },
  {
   "cell_type": "code",
   "execution_count": 75,
   "id": "d4fde3d2",
   "metadata": {},
   "outputs": [
    {
     "name": "stdout",
     "output_type": "stream",
     "text": [
      "   Percentile Range   df_motion  df_defocussed     df_sharp\n",
      "0             5.0th   11.482836       6.009269    52.453192\n",
      "1            10.0th   17.294167       9.416464    71.949404\n",
      "2            20.0th   26.593368      16.344266   115.704969\n",
      "3            30.0th   33.785206      21.135657   156.027246\n",
      "4            40.0th   49.559023      26.759629   218.136581\n",
      "5            50.0th   63.445699      32.139226   261.506980\n",
      "6            60.0th   82.857104      44.365028   339.417123\n",
      "7            70.0th  106.146725      60.860307   507.372591\n",
      "8            80.0th  147.395191      95.664365   651.677632\n",
      "9            90.0th  275.299966     162.784000  1078.007183\n",
      "10           95.0th  497.209569     238.494148  1560.368250\n"
     ]
    }
   ],
   "source": [
    "percentiles = [0.05, 0.1, 0.2, 0.3, 0.4, 0.5, 0.6, 0.7, 0.8, 0.9, 0.95]\n",
    "\n",
    "result_data = []\n",
    "\n",
    "# Calculate percentiles for each DataFrame and populate the result DataFrame\n",
    "for percentile in percentiles:\n",
    "    variance_value = np.percentile(df_defocussed[\"Variance\"], percentile * 100)\n",
    "    sharpness_value = np.percentile(df_sharp[\"Variance\"], percentile * 100)\n",
    "    motion_value = np.percentile(df_motion[\"Variance\"], percentile * 100)\n",
    "    \n",
    "    result_data.append({\n",
    "        \"Percentile Range\": f\"{percentile*100}th\",\n",
    "        \"df_motion\": motion_value,\n",
    "        \"df_defocussed\": variance_value,\n",
    "        \"df_sharp\": sharpness_value\n",
    "    })\n",
    "\n",
    "result_df = pd.DataFrame(result_data)\n",
    "print(result_df)"
   ]
  },
  {
   "cell_type": "code",
   "execution_count": 76,
   "id": "87754975",
   "metadata": {},
   "outputs": [
    {
     "name": "stdout",
     "output_type": "stream",
     "text": [
      "    Category    Variance\n",
      "0       blur   64.365429\n",
      "1       blur   78.370947\n",
      "2       blur   42.468335\n",
      "3       blur  314.721705\n",
      "4       blur  417.325428\n",
      "..       ...         ...\n",
      "733    sharp  194.254659\n",
      "734    sharp  139.252947\n",
      "735    sharp  213.178318\n",
      "736    sharp  651.677632\n",
      "737    sharp  225.555985\n",
      "\n",
      "[738 rows x 2 columns]\n"
     ]
    }
   ],
   "source": [
    "combined_df = pd.concat([df_motion, df_defocussed,df_sharp], ignore_index=True)\n",
    "\n",
    "print(combined_df)"
   ]
  },
  {
   "cell_type": "code",
   "execution_count": 77,
   "id": "e248bcc1",
   "metadata": {},
   "outputs": [],
   "source": [
    "# Convert categorical feature to numerical using one-hot encoding\n",
    "df_encoded = pd.get_dummies(combined_df, columns=['Category'], drop_first=True)"
   ]
  },
  {
   "cell_type": "code",
   "execution_count": 78,
   "id": "6e2ff251",
   "metadata": {},
   "outputs": [],
   "source": [
    "# Split data into features and target\n",
    "X = df_encoded.drop(columns=['Category_sharp'])  # Dropping one category to avoid multicollinearity\n",
    "y = df_encoded['Category_sharp']"
   ]
  },
  {
   "cell_type": "code",
   "execution_count": 79,
   "id": "6303ce0a",
   "metadata": {},
   "outputs": [],
   "source": [
    "# Split the data into training and testing sets\n",
    "X_train, X_test, y_train, y_test = train_test_split(X, y, test_size=0.2, random_state=42)\n",
    "\n",
    "# Convert data into DMatrix format\n",
    "dtrain = xgb.DMatrix(X_train, label=y_train)\n",
    "dtest = xgb.DMatrix(X_test, label=y_test)\n"
   ]
  },
  {
   "cell_type": "code",
   "execution_count": 80,
   "id": "cc4d81b4",
   "metadata": {},
   "outputs": [],
   "source": [
    "# Define hyperparameters\n",
    "params = {\n",
    "    'objective': 'binary:logistic',\n",
    "    'eval_metric': 'logloss',\n",
    "    'max_depth': 3,\n",
    "    'eta': 0.1,\n",
    "    'gamma': 0,\n",
    "    'min_child_weight': 1,\n",
    "    'subsample': 1,\n",
    "    'colsample_bytree': 1,\n",
    "}"
   ]
  },
  {
   "cell_type": "code",
   "execution_count": 81,
   "id": "81e8ccd9",
   "metadata": {},
   "outputs": [],
   "source": [
    "# Train the XGBoost model\n",
    "num_round = 50\n",
    "model = xgb.train(params, dtrain, num_round)"
   ]
  },
  {
   "cell_type": "code",
   "execution_count": 82,
   "id": "84969944",
   "metadata": {},
   "outputs": [],
   "source": [
    "# Make predictions\n",
    "y_pred = model.predict(dtest)\n",
    "y_pred_binary = [1 if p >= 0.5 else 0 for p in y_pred]"
   ]
  },
  {
   "cell_type": "code",
   "execution_count": 83,
   "id": "15de6873",
   "metadata": {},
   "outputs": [
    {
     "name": "stdout",
     "output_type": "stream",
     "text": [
      "Confusion Matrix:\n",
      "[[89 11]\n",
      " [19 29]]\n"
     ]
    }
   ],
   "source": [
    "print(\"Confusion Matrix:\")\n",
    "print(confusion_matrix(y_test, y_pred_binary))"
   ]
  },
  {
   "cell_type": "code",
   "execution_count": 84,
   "id": "9f033ad0",
   "metadata": {},
   "outputs": [
    {
     "name": "stdout",
     "output_type": "stream",
     "text": [
      "Accuracy: 0.80\n"
     ]
    }
   ],
   "source": [
    "# Evaluate the model\n",
    "accuracy = accuracy_score(y_test, y_pred_binary)\n",
    "print(f\"Accuracy: {accuracy:.2f}\")"
   ]
  },
  {
   "cell_type": "code",
   "execution_count": 86,
   "id": "c63140c8",
   "metadata": {},
   "outputs": [],
   "source": [
    "# Get predicted probabilities on the test set\n",
    "y_pred_prob = model.predict(dtest)"
   ]
  },
  {
   "cell_type": "code",
   "execution_count": 89,
   "id": "2b38053e",
   "metadata": {},
   "outputs": [],
   "source": [
    "# Calculate ROC curve\n",
    "fpr, tpr, _ = roc_curve(y_test, y_pred_prob)\n",
    "roc_auc = auc(fpr, tpr)"
   ]
  },
  {
   "cell_type": "code",
   "execution_count": 90,
   "id": "45f8838e",
   "metadata": {},
   "outputs": [
    {
     "data": {
      "image/png": "[encoded data removed]",
      "text/plain": [
       "<Figure size 640x480 with 1 Axes>"
      ]
     },
     "metadata": {},
     "output_type": "display_data"
    }
   ],
   "source": [
    "# Plot ROC curve\n",
    "plt.figure()\n",
    "plt.plot(fpr, tpr, color='darkorange', lw=2, label='ROC curve (area = %0.2f)' % roc_auc)\n",
    "plt.plot([0, 1], [0, 1], color='navy', lw=2, linestyle='--')\n",
    "plt.xlim([0.0, 1.0])\n",
    "plt.ylim([0.0, 1.05])\n",
    "plt.xlabel('False Positive Rate')\n",
    "plt.ylabel('True Positive Rate')\n",
    "plt.title('Receiver Operating Characteristic')\n",
    "plt.legend(loc=\"lower right\")\n",
    "plt.show()"
   ]
  }
 ],
 "metadata": {
  "kernelspec": {
   "display_name": "deblurenv",
   "language": "python",
   "name": "deblurenv"
  },
  "language_info": {
   "codemirror_mode": {
    "name": "ipython",
    "version": 3
   },
   "file_extension": ".py",
   "mimetype": "text/x-python",
   "name": "python",
   "nbconvert_exporter": "python",
   "pygments_lexer": "ipython3",
   "version": "3.11.4"
  }
 },
 "nbformat": 4,
 "nbformat_minor": 5
}
